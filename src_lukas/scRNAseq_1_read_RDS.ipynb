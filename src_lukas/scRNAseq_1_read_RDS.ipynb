{
 "cells": [
  {
   "cell_type": "markdown",
   "metadata": {},
   "source": [
    "### Use sctransform conda environment"
   ]
  },
  {
   "cell_type": "code",
   "execution_count": 1,
   "metadata": {},
   "outputs": [
    {
     "ename": "ERROR",
     "evalue": "Error in library(SeuratObject): there is no package called ‘SeuratObject’\n",
     "output_type": "error",
     "traceback": [
      "Error in library(SeuratObject): there is no package called ‘SeuratObject’\nTraceback:\n",
      "1. library(SeuratObject)"
     ]
    }
   ],
   "source": [
    "library(Seurat)\n",
    "library(SeuratObject)\n",
    "library(SeuratDisk)"
   ]
  },
  {
   "cell_type": "code",
   "execution_count": null,
   "metadata": {},
   "outputs": [],
   "source": [
    "data_dir = \"../data/scRNAseq_YangLi/\""
   ]
  },
  {
   "cell_type": "code",
   "execution_count": null,
   "metadata": {},
   "outputs": [],
   "source": [
    "fn = \"bcg0712_bcg\"\n",
    "data = readRDS(paste(data_dir, paste(fn, \"RDS\", sep=\".\"), sep=\"/\"))\n",
    "str(data)"
   ]
  },
  {
   "cell_type": "code",
   "execution_count": null,
   "metadata": {},
   "outputs": [],
   "source": [
    "fn = \"bcg0712_T0LPS\"\n",
    "data = readRDS(paste(data_dir, paste(fn, \"RDS\", sep=\".\"), sep=\"/\"))\n",
    "str(data)"
   ]
  },
  {
   "cell_type": "code",
   "execution_count": null,
   "metadata": {},
   "outputs": [],
   "source": [
    "fn = \"bcg0712_T3mLPS\"\n",
    "data = readRDS(paste(data_dir, paste(fn, \"RDS\", sep=\".\"), sep=\"/\"))\n",
    "str(data)"
   ]
  },
  {
   "cell_type": "code",
   "execution_count": 3,
   "metadata": {},
   "outputs": [
    {
     "name": "stderr",
     "output_type": "stream",
     "text": [
      "Creating h5Seurat file for version 3.1.5.9900\n",
      "\n",
      "Adding counts for RNA\n",
      "\n",
      "Adding data for RNA\n",
      "\n",
      "No variable features found for RNA\n",
      "\n",
      "No feature-level metadata found for RNA\n",
      "\n",
      "Adding data for integrated\n",
      "\n",
      "Adding scale.data for integrated\n",
      "\n",
      "Adding variable features for integrated\n",
      "\n",
      "No feature-level metadata found for integrated\n",
      "\n",
      "Adding cell embeddings for pca\n",
      "\n",
      "Adding loadings for pca\n",
      "\n",
      "No projected loadings for pca\n",
      "\n",
      "Adding standard deviations for pca\n",
      "\n",
      "No JackStraw data for pca\n",
      "\n",
      "Adding cell embeddings for umap\n",
      "\n",
      "No loadings for umap\n",
      "\n",
      "No projected loadings for umap\n",
      "\n",
      "No standard deviations for umap\n",
      "\n",
      "No JackStraw data for umap\n",
      "\n",
      "Validating h5Seurat file\n",
      "\n",
      "Adding data from RNA as X\n",
      "\n",
      "Adding counts from RNA as raw\n",
      "\n",
      "Transfering meta.data to obs\n",
      "\n",
      "Adding dimensional reduction information for umap (global)\n",
      "\n",
      "Creating h5Seurat file for version 3.1.5.9900\n",
      "\n",
      "Adding counts for RNA\n",
      "\n",
      "Adding data for RNA\n",
      "\n",
      "No variable features found for RNA\n",
      "\n",
      "No feature-level metadata found for RNA\n",
      "\n",
      "Adding data for integrated\n",
      "\n",
      "Adding scale.data for integrated\n",
      "\n",
      "Adding variable features for integrated\n",
      "\n",
      "No feature-level metadata found for integrated\n",
      "\n",
      "Adding cell embeddings for pca\n",
      "\n",
      "Adding loadings for pca\n",
      "\n",
      "No projected loadings for pca\n",
      "\n",
      "Adding standard deviations for pca\n",
      "\n",
      "No JackStraw data for pca\n",
      "\n",
      "Adding cell embeddings for umap\n",
      "\n",
      "No loadings for umap\n",
      "\n",
      "No projected loadings for umap\n",
      "\n",
      "No standard deviations for umap\n",
      "\n",
      "No JackStraw data for umap\n",
      "\n",
      "Validating h5Seurat file\n",
      "\n",
      "Adding data from RNA as X\n",
      "\n",
      "Adding counts from RNA as raw\n",
      "\n",
      "Transfering meta.data to obs\n",
      "\n",
      "Adding dimensional reduction information for umap (global)\n",
      "\n",
      "Creating h5Seurat file for version 3.1.5.9900\n",
      "\n",
      "Adding counts for RNA\n",
      "\n",
      "Adding data for RNA\n",
      "\n",
      "No variable features found for RNA\n",
      "\n",
      "No feature-level metadata found for RNA\n",
      "\n",
      "Adding data for integrated\n",
      "\n",
      "Adding scale.data for integrated\n",
      "\n",
      "Adding variable features for integrated\n",
      "\n",
      "No feature-level metadata found for integrated\n",
      "\n",
      "Adding cell embeddings for pca\n",
      "\n",
      "Adding loadings for pca\n",
      "\n",
      "No projected loadings for pca\n",
      "\n",
      "Adding standard deviations for pca\n",
      "\n",
      "No JackStraw data for pca\n",
      "\n",
      "Adding cell embeddings for umap\n",
      "\n",
      "No loadings for umap\n",
      "\n",
      "No projected loadings for umap\n",
      "\n",
      "No standard deviations for umap\n",
      "\n",
      "No JackStraw data for umap\n",
      "\n",
      "Validating h5Seurat file\n",
      "\n",
      "Adding data from RNA as X\n",
      "\n",
      "Adding counts from RNA as raw\n",
      "\n",
      "Transfering meta.data to obs\n",
      "\n",
      "Adding dimensional reduction information for umap (global)\n",
      "\n"
     ]
    }
   ],
   "source": [
    "for(fn in c(\"bcg0712_bcg\", \"bcg0712_T0LPS\", \"bcg0712_T3mLPS\")){\n",
    "    data = readRDS(paste(data_dir, paste(fn, \"RDS\", sep=\".\"), sep=\"/\"))\n",
    "    DefaultAssay(object=data) = \"RNA\"\n",
    "    h5_fn = paste(data_dir, paste(fn, \"h5Seurat\", sep=\".\"), sep=\"/\")\n",
    "    SaveH5Seurat(data, filename=h5_fn)\n",
    "    Convert(h5_fn, dest=\"h5ad\", assay=\"RNA\", overwrite= FALSE)\n",
    "}\n",
    "\n",
    "# data@meta.data$ids\n",
    "# data@assays$RNA@counts\n",
    "# data@assays$RNA@counts[rownames(data_rpmi@assays$RNA@counts) == \"ISG15\",]"
   ]
  },
  {
   "cell_type": "code",
   "execution_count": null,
   "metadata": {},
   "outputs": [],
   "source": []
  }
 ],
 "metadata": {
  "kernelspec": {
   "display_name": "BCG (Python 3)",
   "language": "python",
   "name": "bcg_python3"
  },
  "language_info": {
   "codemirror_mode": {
    "name": "ipython",
    "version": 3
   },
   "file_extension": ".py",
   "mimetype": "text/x-python",
   "name": "python",
   "nbconvert_exporter": "python",
   "pygments_lexer": "ipython3",
   "version": "3.9.18"
  }
 },
 "nbformat": 4,
 "nbformat_minor": 4
}

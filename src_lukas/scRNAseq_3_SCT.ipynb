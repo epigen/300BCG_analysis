{
 "cells": [
  {
   "cell_type": "markdown",
   "metadata": {},
   "source": [
    "### Use sctransform conda environment"
   ]
  },
  {
   "cell_type": "code",
   "execution_count": null,
   "metadata": {},
   "outputs": [],
   "source": [
    "library(Matrix)\n",
    "library(sctransform)\n",
    "library(reticulate)\n",
    "np <- import(\"numpy\")"
   ]
  },
  {
   "cell_type": "code",
   "execution_count": 2,
   "metadata": {},
   "outputs": [],
   "source": [
    "data_dir = \"../data/scRNAseq_YangLi/\""
   ]
  },
  {
   "cell_type": "code",
   "execution_count": 3,
   "metadata": {},
   "outputs": [
    {
     "name": "stdout",
     "output_type": "stream",
     "text": [
      "Formal class 'dgCMatrix' [package \"Matrix\"] with 6 slots\n",
      "  ..@ i       : int [1:307491164] 15 25 28 39 43 46 56 59 72 76 ...\n",
      "  ..@ p       : int [1:181447] 0 3268 6150 8948 10780 13469 16644 18098 20176 23354 ...\n",
      "  ..@ Dim     : int [1:2] 20856 181446\n",
      "  ..@ Dimnames:List of 2\n",
      "  .. ..$ : chr [1:20856] \"AL627309.1\" \"AL627309.5\" \"AL627309.4\" \"LINC01409\" ...\n",
      "  .. ..$ : chr [1:181446] \"AAACCCAAGTCTAGAA-1_1_1\" \"AAACCCACAATTTCCT-1_1_1\" \"AAACGAACAGCGTTTA-1_1_1\" \"AAACGAAGTCGCATGC-1_1_1\" ...\n",
      "  ..@ x       : num [1:307491164] 1 1 1 1 1 5 3 2 3 1 ...\n",
      "  ..@ factors : list()\n"
     ]
    }
   ],
   "source": [
    "data = readMM(paste(data_dir, \"bcg0712_complete.QC2.mtx\", sep=\"/\"))\n",
    "var_names = rownames(read.csv(paste(data_dir, \"bcg0712_complete.QC2.var.csv\", sep=\"/\"), row.names=1))\n",
    "obs_names = rownames(read.csv(paste(data_dir, \"bcg0712_complete.QC2.obs.csv\", sep=\"/\"), row.names=1))\n",
    "data = t(data)\n",
    "rownames(data) = var_names\n",
    "colnames(data) = obs_names\n",
    "data = as(data, \"dgCMatrix\")\n",
    "str(data)"
   ]
  },
  {
   "cell_type": "code",
   "execution_count": 4,
   "metadata": {},
   "outputs": [
    {
     "name": "stderr",
     "output_type": "stream",
     "text": [
      "Calculating cell attributes from input UMI matrix: log_umi\n",
      "\n",
      "Variance stabilizing transformation of count matrix of size 20856 by 181446\n",
      "\n",
      "Model formula is y ~ log_umi\n",
      "\n",
      "Get Negative Binomial regression parameters per gene\n",
      "\n",
      "Using 2000 genes, 181446 cells\n",
      "\n"
     ]
    },
    {
     "name": "stdout",
     "output_type": "stream",
     "text": [
      "  |======================================================================| 100%\n"
     ]
    },
    {
     "name": "stderr",
     "output_type": "stream",
     "text": [
      "Found 69 outliers - those will be ignored in fitting/regularization step\n",
      "\n",
      "\n",
      "Second step: Get residuals using fitted parameters for 20856 genes\n",
      "\n"
     ]
    },
    {
     "name": "stdout",
     "output_type": "stream",
     "text": [
      "  |======================================================================| 100%\n"
     ]
    },
    {
     "name": "stderr",
     "output_type": "stream",
     "text": [
      "Computing corrected count matrix for 20856 genes\n",
      "\n"
     ]
    },
    {
     "name": "stdout",
     "output_type": "stream",
     "text": [
      "  |======================================================================| 100%\n"
     ]
    },
    {
     "name": "stderr",
     "output_type": "stream",
     "text": [
      "Calculating gene attributes\n",
      "\n",
      "Wall clock passed: Time difference of 17.52226 mins\n",
      "\n"
     ]
    }
   ],
   "source": [
    "options(future.globals.maxSize=2048*1024^2)\n",
    "vst_out = sctransform::vst(data, latent_var=c('log_umi'), method='glmGamPoi',\n",
    "                           return_corrected_umi=TRUE, return_gene_attr=TRUE, return_cell_attr=TRUE)\n",
    "saveRDS(vst_out, file=paste(data_dir, \"bcg0712_complete.QC2.SCT.rds\", sep=\"/\"))"
   ]
  },
  {
   "cell_type": "code",
   "execution_count": 5,
   "metadata": {},
   "outputs": [],
   "source": [
    "# vst_out = readRDS(paste(data_dir, \"bcg0712_complete.QC2.SCT.rds\", sep=\"/\"))"
   ]
  },
  {
   "cell_type": "code",
   "execution_count": 6,
   "metadata": {},
   "outputs": [
    {
     "name": "stdout",
     "output_type": "stream",
     "text": [
      "List of 14\n",
      " $ y                    : num [1:20856, 1:181446] -0.0584 -0.1096 -0.011 -0.2257 -0.2901 ...\n",
      "  ..- attr(*, \"dimnames\")=List of 2\n",
      "  .. ..$ : chr [1:20856] \"AL627309.1\" \"AL627309.5\" \"AL627309.4\" \"LINC01409\" ...\n",
      "  .. ..$ : chr [1:181446] \"AAACCCAAGTCTAGAA-1_1_1\" \"AAACCCACAATTTCCT-1_1_1\" \"AAACGAACAGCGTTTA-1_1_1\" \"AAACGAAGTCGCATGC-1_1_1\" ...\n",
      " $ model_str            : chr \"y ~ log_umi\"\n",
      " $ model_pars           : num [1:2000, 1:3] 2.797 1.027 0.189 0.396 2.242 ...\n",
      "  ..- attr(*, \"dimnames\")=List of 2\n",
      "  .. ..$ : chr [1:2000] \"MALAT1\" \"FTH1\" \"AC122129.1\" \"ZNF213-AS1\" ...\n",
      "  .. ..$ : chr [1:3] \"theta\" \"(Intercept)\" \"log_umi\"\n",
      " $ model_pars_outliers  : logi [1:2000] FALSE FALSE FALSE FALSE FALSE FALSE ...\n",
      " $ model_pars_fit       : num [1:20856, 1:3] 0.02783 0.07774 0.00476 0.24792 0.36346 ...\n",
      "  ..- attr(*, \"dimnames\")=List of 2\n",
      "  .. ..$ : chr [1:20856] \"AL627309.1\" \"AL627309.5\" \"AL627309.4\" \"LINC01409\" ...\n",
      "  .. ..$ : chr [1:3] \"theta\" \"(Intercept)\" \"log_umi\"\n",
      "  ..- attr(*, \"outliers\")= logi [1:2000] FALSE FALSE FALSE FALSE FALSE FALSE ...\n",
      " $ model_str_nonreg     : chr \"\"\n",
      " $ model_pars_nonreg    : NULL\n",
      " $ arguments            :List of 30\n",
      "  ..$ latent_var               : chr \"log_umi\"\n",
      "  ..$ batch_var                : NULL\n",
      "  ..$ latent_var_nonreg        : NULL\n",
      "  ..$ n_genes                  : num 2000\n",
      "  ..$ n_cells                  : NULL\n",
      "  ..$ method                   : chr \"glmGamPoi\"\n",
      "  ..$ do_regularize            : logi TRUE\n",
      "  ..$ theta_regularization     : chr \"od_factor\"\n",
      "  ..$ res_clip_range           : num [1:2] -426 426\n",
      "  ..$ bin_size                 : num 500\n",
      "  ..$ min_cells                : num 5\n",
      "  ..$ residual_type            : chr \"pearson\"\n",
      "  ..$ return_cell_attr         : logi TRUE\n",
      "  ..$ return_gene_attr         : logi TRUE\n",
      "  ..$ return_corrected_umi     : logi TRUE\n",
      "  ..$ min_variance             : num -Inf\n",
      "  ..$ bw_adjust                : num 3\n",
      "  ..$ gmean_eps                : num 1\n",
      "  ..$ theta_estimation_fun     : chr \"theta.ml\"\n",
      "  ..$ theta_given              : NULL\n",
      "  ..$ exclude_poisson          : logi FALSE\n",
      "  ..$ use_geometric_mean       : logi TRUE\n",
      "  ..$ use_geometric_mean_offset: logi FALSE\n",
      "  ..$ fix_intercept            : logi FALSE\n",
      "  ..$ fix_slope                : logi FALSE\n",
      "  ..$ scale_factor             : logi NA\n",
      "  ..$ vst.flavor               : NULL\n",
      "  ..$ verbosity                : num 2\n",
      "  ..$ verbose                  : NULL\n",
      "  ..$ show_progress            : NULL\n",
      " $ genes_log_gmean_step1: Named num [1:2000] 2.31 1.64 -2.31 -1.5 1.67 ...\n",
      "  ..- attr(*, \"names\")= chr [1:2000] \"MALAT1\" \"FTH1\" \"AC122129.1\" \"ZNF213-AS1\" ...\n",
      " $ cells_step1          : chr [1:181446] \"AAACCCAAGTCTAGAA-1_1_1\" \"AAACCCACAATTTCCT-1_1_1\" \"AAACGAACAGCGTTTA-1_1_1\" \"AAACGAAGTCGCATGC-1_1_1\" ...\n",
      " $ cell_attr            :'data.frame':\t181446 obs. of  2 variables:\n",
      "  ..$ umi    : num [1:181446] 9363 8343 6958 4662 8321 ...\n",
      "  ..$ log_umi: num [1:181446] 3.97 3.92 3.84 3.67 3.92 ...\n",
      " $ umi_corrected        :Formal class 'dgCMatrix' [package \"Matrix\"] with 6 slots\n",
      "  .. ..@ i       : int [1:294337290] 25 28 43 46 56 59 72 76 86 89 ...\n",
      "  .. ..@ p       : int [1:181447] 0 2799 5410 8113 9945 12358 14234 15688 17766 20753 ...\n",
      "  .. ..@ Dim     : int [1:2] 20856 181446\n",
      "  .. ..@ Dimnames:List of 2\n",
      "  .. .. ..$ : chr [1:20856] \"AL627309.1\" \"AL627309.5\" \"AL627309.4\" \"LINC01409\" ...\n",
      "  .. .. ..$ : chr [1:181446] \"AAACCCAAGTCTAGAA-1_1_1\" \"AAACCCACAATTTCCT-1_1_1\" \"AAACGAACAGCGTTTA-1_1_1\" \"AAACGAAGTCGCATGC-1_1_1\" ...\n",
      "  .. ..@ x       : num [1:294337290] 1 1 1 3 2 1 2 1 1 1 ...\n",
      "  .. ..@ factors : list()\n",
      " $ gene_attr            :'data.frame':\t20856 obs. of  6 variables:\n",
      "  ..$ detection_rate   : num [1:20856] 2.24e-03 8.12e-03 5.51e-05 3.37e-02 5.55e-02 ...\n",
      "  ..$ gmean            : num [1:20856] 1.57e-03 5.72e-03 3.82e-05 2.47e-02 4.15e-02 ...\n",
      "  ..$ amean            : num [1:20856] 2.27e-03 8.32e-03 5.51e-05 3.63e-02 6.11e-02 ...\n",
      "  ..$ variance         : num [1:20856] 2.33e-03 8.67e-03 5.51e-05 4.07e-02 7.13e-02 ...\n",
      "  ..$ residual_mean    : num [1:20856] 0.004639 0.003027 -0.002942 0.005966 0.000814 ...\n",
      "  ..$ residual_variance: num [1:20856] 1.091 0.955 0.563 1.026 0.97 ...\n",
      " $ times                :List of 7\n",
      "  ..$ start_time    : POSIXct[1:1], format: \"2022-10-06 00:04:37\"\n",
      "  ..$ get_model_pars: POSIXct[1:1], format: \"2022-10-06 00:04:59\"\n",
      "  ..$ reg_model_pars: POSIXct[1:1], format: \"2022-10-06 00:14:22\"\n",
      "  ..$ get_residuals : POSIXct[1:1], format: \"2022-10-06 00:14:23\"\n",
      "  ..$ correct_umi   : POSIXct[1:1], format: \"2022-10-06 00:17:02\"\n",
      "  ..$ get_gene_attr : POSIXct[1:1], format: \"2022-10-06 00:20:56\"\n",
      "  ..$ done          : POSIXct[1:1], format: \"2022-10-06 00:22:09\"\n"
     ]
    }
   ],
   "source": [
    "str(vst_out)"
   ]
  },
  {
   "cell_type": "code",
   "execution_count": 7,
   "metadata": {},
   "outputs": [
    {
     "data": {
      "text/plain": [
       "NULL"
      ]
     },
     "metadata": {},
     "output_type": "display_data"
    }
   ],
   "source": [
    "write.table(rownames(vst_out$y), file=paste(data_dir, \"bcg0712_complete.QC2.SCT.var.csv\", sep=\"/\"), row.names=FALSE, col.names=FALSE)\n",
    "write.table(colnames(vst_out$y), file=paste(data_dir, \"bcg0712_complete.QC2.SCT.obs.csv\", sep=\"/\"), row.names=FALSE, col.names=FALSE)\n",
    "np$save(paste(data_dir, \"bcg0712_complete.QC2.SCT_residuals.npy\", sep=\"/\"), vst_out$y)\n",
    "write.table(vst_out$gene_attr$residual_variance, file=gzfile(paste(data_dir, \"bcg0712_complete.QC2.SCT_variance.csv.gz\", sep=\"/\")), sep=',', row.names=TRUE, col.names=FALSE)\n",
    "writeMM(vst_out$umi_corrected, file=paste(data_dir, \"bcg0712_complete.QC2.SCT_corr_counts.mtx\", sep=\"/\"))"
   ]
  },
  {
   "cell_type": "code",
   "execution_count": null,
   "metadata": {},
   "outputs": [],
   "source": [
    "# write.table(vst_out$y, file=gzfile(paste(data_dir, \"bcg0712_complete.QC2.SCT_residuals.csv.gz\", sep=\"/\")), sep=',', row.names=TRUE, col.names=FALSE)"
   ]
  },
  {
   "cell_type": "code",
   "execution_count": null,
   "metadata": {},
   "outputs": [],
   "source": []
  }
 ],
 "metadata": {
  "kernelspec": {
   "display_name": "BCG (Python 3)",
   "language": "python",
   "name": "bcg_python3"
  },
  "language_info": {
   "codemirror_mode": {
    "name": "ipython",
    "version": 3
   },
   "file_extension": ".py",
   "mimetype": "text/x-python",
   "name": "python",
   "nbconvert_exporter": "python",
   "pygments_lexer": "ipython3",
   "version": "3.9.18"
  }
 },
 "nbformat": 4,
 "nbformat_minor": 4
}
